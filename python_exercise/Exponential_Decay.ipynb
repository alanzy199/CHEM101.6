{
  "cells": [
    {
      "cell_type": "markdown",
      "metadata": {
        "colab_type": "text",
        "id": "view-in-github"
      },
      "source": [
        "<a href=\"https://colab.research.google.com/github/paulrobustelli/python_demos/blob/main/Exponential_Decay.ipynb\" target=\"_parent\"><img src=\"https://colab.research.google.com/assets/colab-badge.svg\" alt=\"Open In Colab\"/></a>"
      ]
    },
    {
      "cell_type": "code",
      "execution_count": 1,
      "metadata": {
        "id": "XY0T5BxcEyWZ"
      },
      "outputs": [],
      "source": [
        "import numpy as np\n",
        "from scipy.optimize import curve_fit\n",
        "\n",
        "def exponential_decay(t, k):\n",
        "    \"\"\"\n",
        "    Calculate the exponential decay for a given time and rate constant.\n",
        "\n",
        "    Parameters:\n",
        "    t (array-like): The time values.\n",
        "    k (float): The rate constant.\n",
        "\n",
        "    Returns:\n",
        "    array: The exponential decay values.\n",
        "    \"\"\"\n",
        "    return np.exp(-k*t)\n",
        "\n",
        "def fit_rate_constant(t, y):\n",
        "    \"\"\"\n",
        "    Fit the rate constant for an exponential decay curve.\n",
        "\n",
        "    Parameters:\n",
        "    t (array-like): The time values.\n",
        "    y (array-like): The exponential decay values.\n",
        "s\n",
        "    Returns:\n",
        "    float: The rate constant.\n",
        "    \"\"\"\n",
        "    popt, pcov = curve_fit(exponential_decay, t, y)\n",
        "    return popt[0]"
      ]
    },
    {
      "cell_type": "code",
      "execution_count": 2,
      "metadata": {
        "colab": {
          "base_uri": "https://localhost:8080/"
        },
        "id": "zG70QX-6E3k2",
        "outputId": "868208ca-67eb-4cd2-8b7e-4af8ccb7071c"
      },
      "outputs": [
        {
          "name": "stdout",
          "output_type": "stream",
          "text": [
            "Rate constant:  0.6931471805599453\n"
          ]
        }
      ],
      "source": [
        "#Add you time points here\n",
        "t = [0, 1, 2, 3, 4, 5]\n",
        "#Add your concentrations here\n",
        "y = [1, 0.5, 0.25, 0.125, 0.0625, 0.03125]\n",
        "\n",
        "rate_constant = fit_rate_constant(t, y)\n",
        "print(\"Rate constant: \", rate_constant)"
      ]
    },
    {
      "cell_type": "code",
      "execution_count": null,
      "metadata": {
        "id": "eBBsN2SFE4Vt"
      },
      "outputs": [],
      "source": []
    }
  ],
  "metadata": {
    "colab": {
      "authorship_tag": "ABX9TyPj5UBFdV4RUevnufddiR2u",
      "include_colab_link": true,
      "provenance": []
    },
    "kernelspec": {
      "display_name": "Python 3",
      "name": "python3"
    },
    "language_info": {
      "name": "python",
      "version": "3.11.8"
    }
  },
  "nbformat": 4,
  "nbformat_minor": 0
}
